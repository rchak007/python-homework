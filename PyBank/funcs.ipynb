{
 "cells": [
  {
   "cell_type": "markdown",
   "id": "a20b1156",
   "metadata": {},
   "source": [
    "#### open file"
   ]
  },
  {
   "cell_type": "code",
   "execution_count": 2,
   "id": "cefe5439",
   "metadata": {},
   "outputs": [
    {
     "ename": "NameError",
     "evalue": "name '_csv' is not defined",
     "output_type": "error",
     "traceback": [
      "\u001b[1;31m---------------------------------------------------------------------------\u001b[0m",
      "\u001b[1;31mNameError\u001b[0m                                 Traceback (most recent call last)",
      "\u001b[1;32m<ipython-input-2-0854d60e6ea4>\u001b[0m in \u001b[0;36m<module>\u001b[1;34m\u001b[0m\n\u001b[1;32m----> 1\u001b[1;33m \u001b[1;32mdef\u001b[0m \u001b[0mread_budget\u001b[0m\u001b[1;33m(\u001b[0m\u001b[0mcsv_reader\u001b[0m\u001b[1;33m:\u001b[0m \u001b[0m_csv\u001b[0m\u001b[1;33m.\u001b[0m\u001b[0mreader\u001b[0m\u001b[1;33m)\u001b[0m  \u001b[1;33m->\u001b[0m \u001b[0mlist\u001b[0m\u001b[1;33m:\u001b[0m\u001b[1;33m\u001b[0m\u001b[1;33m\u001b[0m\u001b[0m\n\u001b[0m\u001b[0;32m      2\u001b[0m     \u001b[0mline_count\u001b[0m \u001b[1;33m=\u001b[0m \u001b[1;36m0\u001b[0m\u001b[1;33m\u001b[0m\u001b[1;33m\u001b[0m\u001b[0m\n\u001b[0;32m      3\u001b[0m     \u001b[0mprint\u001b[0m\u001b[1;33m(\u001b[0m\u001b[0mtype\u001b[0m\u001b[1;33m(\u001b[0m\u001b[0mcsv_reader\u001b[0m\u001b[1;33m)\u001b[0m\u001b[1;33m)\u001b[0m\u001b[1;33m\u001b[0m\u001b[1;33m\u001b[0m\u001b[0m\n\u001b[0;32m      4\u001b[0m \u001b[1;33m\u001b[0m\u001b[0m\n\u001b[0;32m      5\u001b[0m     \u001b[1;32mfor\u001b[0m \u001b[0mrow\u001b[0m \u001b[1;32min\u001b[0m \u001b[0mcsv_reader\u001b[0m\u001b[1;33m:\u001b[0m\u001b[1;33m\u001b[0m\u001b[1;33m\u001b[0m\u001b[0m\n",
      "\u001b[1;31mNameError\u001b[0m: name '_csv' is not defined"
     ]
    }
   ],
   "source": [
    "def read_budget(csv_reader: _csv.reader)  -> list:\n",
    "    line_count = 0\n",
    "    print(type(csv_reader))\n",
    "    \n",
    "    for row in csv_reader:\n",
    "        if line_count == 0:\n",
    "            print(f'columns names are {\",\".join(row)}')\n",
    "            line_count += 1\n",
    "        else:\n",
    "            #print(f'\\t{row[0]} profit loss is {row[1]} ')    # /t is tab.\n",
    "            period = row[0]\n",
    "            #print(period)\n",
    "            year = row[0][4:]\n",
    "            profit_loss = int(row[1])\n",
    "            #print(period, profit_loss)\n",
    "            month_PL = {}\n",
    "            month_PL = { period : int(profit_loss) } # store the row Period and P/L into a Dict - key and value \n",
    "            #month_PL.append(company_finances)\n",
    "            #print(month_PL)\n",
    "            company_finances.append(month_PL)\n",
    "            #print(first_part)\n",
    "            #print(year)\n",
    "            #1st_part = row[0]\n",
    "            #print(f' Month is {first_part[0:3]}')\n",
    "            line_count += 1\n",
    "    "
   ]
  },
  {
   "cell_type": "code",
   "execution_count": null,
   "id": "00288317",
   "metadata": {},
   "outputs": [],
   "source": []
  }
 ],
 "metadata": {
  "kernelspec": {
   "display_name": "Python 3",
   "language": "python",
   "name": "python3"
  },
  "language_info": {
   "codemirror_mode": {
    "name": "ipython",
    "version": 3
   },
   "file_extension": ".py",
   "mimetype": "text/x-python",
   "name": "python",
   "nbconvert_exporter": "python",
   "pygments_lexer": "ipython3",
   "version": "3.8.5"
  }
 },
 "nbformat": 4,
 "nbformat_minor": 5
}
