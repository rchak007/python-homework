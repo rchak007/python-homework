{
 "cells": [
  {
   "cell_type": "markdown",
   "id": "e81c74d2",
   "metadata": {},
   "source": [
    "#### Import libraries"
   ]
  },
  {
   "cell_type": "code",
   "execution_count": 37,
   "id": "6f8e5009",
   "metadata": {},
   "outputs": [],
   "source": [
    "import csv\n",
    "from pathlib import Path"
   ]
  },
  {
   "cell_type": "markdown",
   "id": "1dba87f7",
   "metadata": {},
   "source": [
    "#### Initialize variables"
   ]
  },
  {
   "cell_type": "code",
   "execution_count": 38,
   "id": "1fbd9a51",
   "metadata": {},
   "outputs": [],
   "source": [
    "csv_path = Path('budget_data.csv')\n",
    "month_PL = {}              # convert read file rows into a dict\n",
    "company_finances = []      # list to hold the budget data\n",
    "#print(type(month_PL))\n",
    "#print(type(company_finances))"
   ]
  },
  {
   "cell_type": "markdown",
   "id": "6b0c083e",
   "metadata": {},
   "source": [
    "#### Read the Budget data file as csv reader\n",
    "##### create a month: profit/loss for each row in file as dict and add those into company finances list"
   ]
  },
  {
   "cell_type": "code",
   "execution_count": 39,
   "id": "46c6b4cb",
   "metadata": {},
   "outputs": [
    {
     "name": "stdout",
     "output_type": "stream",
     "text": [
      "<class '_csv.reader'>\n",
      "<class 'int'>\n",
      "columns names are Date,Profit/Losses\n"
     ]
    }
   ],
   "source": [
    "with open(csv_path) as csv_file:\n",
    "    csv_reader = csv.reader(csv_file, delimiter=',')\n",
    "    line_count = 0\n",
    "    print(type(csv_reader))\n",
    "    print(type(line_count))\n",
    "    \n",
    "    for row in csv_reader:\n",
    "        if line_count == 0:\n",
    "            print(f'columns names are {\",\".join(row)}')\n",
    "            line_count += 1\n",
    "        else:\n",
    "            #print(f'\\t{row[0]} profit loss is {row[1]} ')    # /t is tab.\n",
    "            period = row[0]\n",
    "            #print(period)\n",
    "            year = row[0][4:]            \n",
    "            profit_loss = int(row[1])\n",
    "            #print(period, profit_loss)\n",
    "            month_PL = {}\n",
    "            month_PL = { period : int(profit_loss) } # store the row Period and P/L into a Dict - key and value \n",
    "            #month_PL.append(company_finances)\n",
    "            #print(month_PL)\n",
    "            company_finances.append(month_PL)\n",
    "            #print(first_part)            \n",
    "            #print(year)\n",
    "            #1st_part = row[0]\n",
    "            #print(f' Month is {first_part[0:3]}')\n",
    "            line_count += 1"
   ]
  },
  {
   "cell_type": "markdown",
   "id": "c660b27d",
   "metadata": {},
   "source": [
    "##### check results for created company finances"
   ]
  },
  {
   "cell_type": "code",
   "execution_count": 40,
   "id": "88e7159f",
   "metadata": {},
   "outputs": [
    {
     "name": "stdout",
     "output_type": "stream",
     "text": [
      "[{'Jan-2010': 867884}, {'Feb-2010': 984655}, {'Mar-2010': 322013}, {'Apr-2010': -69417}, {'May-2010': 310503}, {'Jun-2010': 522857}, {'Jul-2010': 1033096}, {'Aug-2010': 604885}, {'Sep-2010': -216386}, {'Oct-2010': 477532}, {'Nov-2010': 893810}, {'Dec-2010': -80353}, {'Jan-2011': 779806}, {'Feb-2011': -335203}, {'Mar-2011': 697845}, {'Apr-2011': 793163}, {'May-2011': 485070}, {'Jun-2011': 584122}, {'Jul-2011': 62729}, {'Aug-2011': 668179}, {'Sep-2011': 899906}, {'Oct-2011': 834719}, {'Nov-2011': 132003}, {'Dec-2011': 309978}, {'Jan-2012': -755566}, {'Feb-2012': 1170593}, {'Mar-2012': 252788}, {'Apr-2012': 1151518}, {'May-2012': 817256}, {'Jun-2012': 570757}, {'Jul-2012': 506702}, {'Aug-2012': -1022534}, {'Sep-2012': 475062}, {'Oct-2012': 779976}, {'Nov-2012': 144175}, {'Dec-2012': 542494}, {'Jan-2013': 359333}, {'Feb-2013': 321469}, {'Mar-2013': 67780}, {'Apr-2013': 471435}, {'May-2013': 565603}, {'Jun-2013': 872480}, {'Jul-2013': 789480}, {'Aug-2013': 999942}, {'Sep-2013': -1196225}, {'Oct-2013': 268997}, {'Nov-2013': -687986}, {'Dec-2013': 1150461}, {'Jan-2014': 682458}, {'Feb-2014': 617856}, {'Mar-2014': 824098}, {'Apr-2014': 581943}, {'May-2014': 132864}, {'Jun-2014': 448062}, {'Jul-2014': 689161}, {'Aug-2014': 800701}, {'Sep-2014': 1166643}, {'Oct-2014': 947333}, {'Nov-2014': 578668}, {'Dec-2014': 988505}, {'Jan-2015': 1139715}, {'Feb-2015': 1029471}, {'Mar-2015': 687533}, {'Apr-2015': -524626}, {'May-2015': 158620}, {'Jun-2015': 87795}, {'Jul-2015': 423389}, {'Aug-2015': 840723}, {'Sep-2015': 568529}, {'Oct-2015': 332067}, {'Nov-2015': 989499}, {'Dec-2015': 778237}, {'Jan-2016': 650000}, {'Feb-2016': -1100387}, {'Mar-2016': -174946}, {'Apr-2016': 757143}, {'May-2016': 445709}, {'Jun-2016': 712961}, {'Jul-2016': -1163797}, {'Aug-2016': 569899}, {'Sep-2016': 768450}, {'Oct-2016': 102685}, {'Nov-2016': 795914}, {'Dec-2016': 60988}, {'Jan-2017': 138230}, {'Feb-2017': 671099}]\n",
      "86\n"
     ]
    }
   ],
   "source": [
    "print(company_finances)\n",
    "total_months = len(company_finances)\n",
    "print(total_months)"
   ]
  },
  {
   "cell_type": "markdown",
   "id": "42c41b44",
   "metadata": {},
   "source": [
    "#### Loop throught company finances list to store prior P/L and calculate the net change from prior period\n",
    "#### Also set the high and low changes period and values. Record cumulative net change to calculate the average change "
   ]
  },
  {
   "cell_type": "code",
   "execution_count": 41,
   "id": "b9c1a962",
   "metadata": {},
   "outputs": [
    {
     "name": "stdout",
     "output_type": "stream",
     "text": [
      "Financial Analysis\n",
      "----------------------------\n",
      "Total Months: 86\n",
      "Total: $38382578\n",
      "Average  Change: $-2315.1176470588234\n",
      "Greatest Increase in Profits: Feb-2012   ($1926159)\n",
      "Greatest Decrease in Profits: Sep-2013 ($-2196167)\n"
     ]
    }
   ],
   "source": [
    "net_total = 0\n",
    "count = 0 \n",
    "net_change = 0\n",
    "high_change = 0\n",
    "low_change = 0\n",
    "prior_pl = 0\n",
    "for period_data in company_finances:\n",
    "    count += 1\n",
    "    for period, profit_loss in period_data.items():\n",
    "        #print(period)\n",
    "        #print(profit_loss)\n",
    "        #print('count', count)\n",
    "        if count > 1:\n",
    "            #print(f'Prior is {prior_pl}')\n",
    "            #print(f'p/L is {profit_loss}')\n",
    "            net_change += profit_loss - prior_pl\n",
    "            current_change = profit_loss - prior_pl\n",
    "            if count == 2:\n",
    "                high_change = net_change\n",
    "                low_change = net_change\n",
    "            elif count > 2:\n",
    "                if current_change > high_change:\n",
    "                    high_change = current_change\n",
    "                    high_period = period\n",
    "                    #print(f'current {period} \"current profit\" {profit_loss} \" prior profit\" {prior_pl} ')\n",
    "                    #print('high = ', high_period, high_change)\n",
    "                if current_change < low_change:\n",
    "                    low_change = current_change\n",
    "                    low_period = period\n",
    "        net_total += profit_loss\n",
    "        prior_pl = profit_loss\n",
    "        \n",
    "        \n",
    "print(\"Financial Analysis\")\n",
    "print(\"----------------------------\")\n",
    "print(f'Total Months: {total_months}')\n",
    "print(f'Total: ${net_total}')\n",
    "#print(f'Total Change: {net_change}')\n",
    "print(f'Average  Change: ${net_change/(count-1)}')    # since its a change very first record is not counted\n",
    "print(f'Greatest Increase in Profits: {high_period}   (${high_change})')\n",
    "print(f'Greatest Decrease in Profits: {low_period} (${low_change})')\n",
    "    \n",
    "  "
   ]
  },
  {
   "cell_type": "markdown",
   "id": "cef36cd9",
   "metadata": {},
   "source": [
    "#### Write to file"
   ]
  },
  {
   "cell_type": "code",
   "execution_count": 42,
   "id": "cd5b38d5",
   "metadata": {},
   "outputs": [],
   "source": [
    "  \n",
    "f = open(\"PyBankOutput.txt\", \"w\")\n",
    "f.write(\"Financial Analysis\")\n",
    "f.write(\"\\n\")\n",
    "f.write(\"----------------------------\")\n",
    "f.write(\"\\n\")\n",
    "f.write(f'Total Months: {total_months}')\n",
    "f.write(\"\\n\")\n",
    "f.write(f'Total: ${net_total}')\n",
    "f.write(\"\\n\")\n",
    "f.write(f'Average  Change: ${net_change/(count-1)}') \n",
    "f.write(\"\\n\")\n",
    "f.write(f'Greatest Increase in Profits: {high_period}   (${high_change})')\n",
    "f.write(\"\\n\")\n",
    "f.write(f'Greatest Decrease in Profits: {low_period} (${low_change})')\n",
    "\n",
    "f.close()"
   ]
  }
 ],
 "metadata": {
  "kernelspec": {
   "display_name": "Python 3",
   "language": "python",
   "name": "python3"
  },
  "language_info": {
   "codemirror_mode": {
    "name": "ipython",
    "version": 3
   },
   "file_extension": ".py",
   "mimetype": "text/x-python",
   "name": "python",
   "nbconvert_exporter": "python",
   "pygments_lexer": "ipython3",
   "version": "3.8.5"
  }
 },
 "nbformat": 4,
 "nbformat_minor": 5
}
