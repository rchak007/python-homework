{
 "cells": [
  {
   "cell_type": "markdown",
   "id": "1469892b",
   "metadata": {},
   "source": [
    "#### Import libraries"
   ]
  },
  {
   "cell_type": "code",
   "execution_count": 1,
   "id": "768a580a",
   "metadata": {},
   "outputs": [],
   "source": [
    "import csv\n",
    "from pathlib import Path"
   ]
  },
  {
   "cell_type": "markdown",
   "id": "df162d2c",
   "metadata": {},
   "source": [
    "#### Initialize variables"
   ]
  },
  {
   "cell_type": "code",
   "execution_count": 2,
   "id": "b9ad9371",
   "metadata": {},
   "outputs": [],
   "source": [
    "csv_path = Path('budget_data.csv')\n",
    "month_PL = {}              # convert read file rows into a dict\n",
    "company_finances = []      # list to hold the budget data\n",
    "#print(type(month_PL))\n",
    "#print(type(company_finances))"
   ]
  },
  {
   "cell_type": "markdown",
   "id": "d1fb81eb",
   "metadata": {},
   "source": [
    "#### Read the Budget data file as csv reader\n",
    "##### create a month: profit/loss for each row in file as dict and add those into company finances list"
   ]
  },
  {
   "cell_type": "code",
   "execution_count": 3,
   "id": "38dd91de",
   "metadata": {},
   "outputs": [],
   "source": [
    "def read_csv_file():\n",
    "    global period, year, profit_loss, month_PL\n",
    "    with open(csv_path) as csv_file:\n",
    "        csv_reader = csv.reader(csv_file, delimiter=',')\n",
    "        line_count = 0\n",
    "#        print(type(csv_reader))\n",
    "#        print(type(line_count))\n",
    "        for row in csv_reader:\n",
    "            if line_count == 0:\n",
    "#                print(f'columns names are {\",\".join(row)}')\n",
    "                line_count += 1\n",
    "            else:\n",
    "                #print(f'\\t{row[0]} profit loss is {row[1]} ')    # /t is tab.\n",
    "                period = row[0]\n",
    "                #print(period)\n",
    "                year = row[0][4:]            \n",
    "                profit_loss = int(row[1])\n",
    "                #print(period, profit_loss)\n",
    "                month_PL = {}\n",
    "                month_PL = { period : int(profit_loss) } # store the row Period and P/L into a Dict - key and value \n",
    "                #month_PL.append(company_finances)\n",
    "                #print(month_PL)\n",
    "                company_finances.append(month_PL)\n",
    "                #print(first_part)            \n",
    "                #print(year)\n",
    "                #1st_part = row[0]\n",
    "                #print(f' Month is {first_part[0:3]}')\n",
    "                line_count += 1\n"
   ]
  },
  {
   "cell_type": "markdown",
   "id": "ee61c867",
   "metadata": {},
   "source": [
    "#### Loop throught company finances list to store prior P/L and calculate the net change from prior period\n",
    "#### Also set the high and low changes period and values. Record cumulative net change to calculate the average change "
   ]
  },
  {
   "cell_type": "code",
   "execution_count": 4,
   "id": "cd7f6fb6",
   "metadata": {},
   "outputs": [],
   "source": [
    "\n",
    "def company_finance_calculations():\n",
    "    global total_months, net_total, high_change, low_change, high_period, low_period, net_change\n",
    "    #print(company_finances)\n",
    "    total_months = len(company_finances)\n",
    "    #print(total_months)\n",
    "\n",
    "    net_total = 0\n",
    "    count = 0 \n",
    "    net_change = 0\n",
    "    high_change = 0\n",
    "    low_change = 0\n",
    "    prior_pl = 0\n",
    "    for period_data in company_finances:\n",
    "        count += 1\n",
    "        for period, profit_loss in period_data.items():\n",
    "            #print(period)\n",
    "            #print(profit_loss)\n",
    "            #print('count', count)\n",
    "            if count > 1:\n",
    "                #print(f'Prior is {prior_pl}')\n",
    "                #print(f'p/L is {profit_loss}')\n",
    "                net_change += profit_loss - prior_pl\n",
    "                current_change = profit_loss - prior_pl\n",
    "                if count == 2:\n",
    "                    high_change = net_change\n",
    "                    low_change = net_change\n",
    "                elif count > 2:\n",
    "                    if current_change > high_change:\n",
    "                        high_change = current_change\n",
    "                        high_period = period\n",
    "                        #print(f'current {period} \"current profit\" {profit_loss} \" prior profit\" {prior_pl} ')\n",
    "                        #print('high = ', high_period, high_change)\n",
    "                    if current_change < low_change:\n",
    "                        low_change = current_change\n",
    "                        low_period = period\n",
    "            net_total += profit_loss\n",
    "            prior_pl = profit_loss\n",
    "        \n",
    "        \n",
    "\n",
    "    \n",
    "  "
   ]
  },
  {
   "cell_type": "markdown",
   "id": "4420e4f2",
   "metadata": {},
   "source": [
    "#### Print Financial Analysis"
   ]
  },
  {
   "cell_type": "code",
   "execution_count": 5,
   "id": "09e4e49c",
   "metadata": {},
   "outputs": [],
   "source": [
    "def print_financial():\n",
    "    print(\"Financial Analysis\")\n",
    "    print(\"----------------------------\")\n",
    "    print(f'Total Months: {total_months}')\n",
    "    print(f'Total: ${net_total}')\n",
    "    #print(f'Total Change: {net_change}')\n",
    "    print(f'Average  Change: ${net_change/(total_months -1)}')    # since its a change very first record is not counted\n",
    "    print(f'Greatest Increase in Profits: {high_period}   (${high_change})')\n",
    "    print(f'Greatest Decrease in Profits: {low_period} (${low_change})')"
   ]
  },
  {
   "cell_type": "markdown",
   "id": "acc37c5c",
   "metadata": {},
   "source": [
    "#### Write to file"
   ]
  },
  {
   "cell_type": "code",
   "execution_count": 6,
   "id": "a58bff20",
   "metadata": {},
   "outputs": [],
   "source": [
    "def write_to_file():  \n",
    "    f = open(\"PyBankOutput.txt\", \"w\")\n",
    "    f.write(\"Financial Analysis\")\n",
    "    f.write(\"\\n\")\n",
    "    f.write(\"----------------------------\")\n",
    "    f.write(\"\\n\")\n",
    "    f.write(f'Total Months: {total_months}')\n",
    "    f.write(\"\\n\")\n",
    "    f.write(f'Total: ${net_total}')\n",
    "    f.write(\"\\n\")\n",
    "    f.write(f'Average  Change: ${net_change/(total_months-1)}') \n",
    "    f.write(\"\\n\")\n",
    "    f.write(f'Greatest Increase in Profits: {high_period}   (${high_change})')\n",
    "    f.write(\"\\n\")\n",
    "    f.write(f'Greatest Decrease in Profits: {low_period} (${low_change})')\n",
    "\n",
    "    f.close()"
   ]
  },
  {
   "cell_type": "code",
   "execution_count": 7,
   "id": "629ad742",
   "metadata": {},
   "outputs": [
    {
     "name": "stdout",
     "output_type": "stream",
     "text": [
      "Financial Analysis\n",
      "----------------------------\n",
      "Total Months: 86\n",
      "Total: $38382578\n",
      "Average  Change: $-2315.1176470588234\n",
      "Greatest Increase in Profits: Feb-2012   ($1926159)\n",
      "Greatest Decrease in Profits: Sep-2013 ($-2196167)\n"
     ]
    }
   ],
   "source": [
    "if __name__ == \"__main__\":\n",
    "    read_csv_file()\n",
    "    company_finance_calculations()\n",
    "    print_financial()\n",
    "    write_to_file()"
   ]
  },
  {
   "cell_type": "code",
   "execution_count": null,
   "id": "8b6df7f2",
   "metadata": {},
   "outputs": [],
   "source": []
  }
 ],
 "metadata": {
  "kernelspec": {
   "display_name": "Python 3",
   "language": "python",
   "name": "python3"
  },
  "language_info": {
   "codemirror_mode": {
    "name": "ipython",
    "version": 3
   },
   "file_extension": ".py",
   "mimetype": "text/x-python",
   "name": "python",
   "nbconvert_exporter": "python",
   "pygments_lexer": "ipython3",
   "version": "3.8.5"
  }
 },
 "nbformat": 4,
 "nbformat_minor": 5
}
