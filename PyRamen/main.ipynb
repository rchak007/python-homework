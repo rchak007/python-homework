{
 "cells": [
  {
   "cell_type": "markdown",
   "id": "ebb4e701",
   "metadata": {},
   "source": [
    "## Starter file for homework"
   ]
  },
  {
   "cell_type": "code",
   "execution_count": 444,
   "id": "55294b4e",
   "metadata": {},
   "outputs": [],
   "source": [
    "# -*- coding: UTF-8 -*-\n",
    "\"\"\"PyRamen Homework Starter.\"\"\"\n",
    "\n",
    "# @TODO: Import libraries\n",
    "#import csv\n",
    "#from pathlib import Path\n",
    "\n",
    "# @TODO: Set file paths for menu_data.csv and sales_data.csv\n",
    "#menu_filepath = Path('menu_data.csv')\n",
    "#sales_filepath = Path('sales_data.csv')\n",
    "\n",
    "# @TODO: Initialize list objects to hold our menu and sales data\n",
    "#menu = []\n",
    "#sales = []\n",
    "\n",
    "# @TODO: Read in the menu data into the menu list\n",
    "\n",
    "\n",
    "\n",
    "\n",
    "\n",
    "\n",
    "\n",
    "\n",
    "\n",
    "\n",
    "# @TODO: Read in the sales data into the sales list\n",
    "\n",
    "\n",
    "\n",
    "\n",
    "\n",
    "\n",
    "\n",
    "\n",
    "\n",
    "\n",
    "# @TODO: Initialize dict object to hold our key-value pairs of items and metrics\n",
    "report = {}\n",
    "\n",
    "# Initialize a row counter variable\n",
    "row_count = 0\n",
    "\n",
    "# @TODO: Loop over every row in the sales list object\n",
    "\n",
    "\n",
    "\n",
    "\n",
    "    # Line_Item_ID,Date,Credit_Card_Number,Quantity,Menu_Item\n",
    "    # @TODO: Initialize sales data variables\n",
    "\n",
    "\n",
    "    # @TODO:\n",
    "    # If the item value not in the report, add it as a new entry with initialized metrics\n",
    "    # Naming convention allows the keys to be ordered in logical fashion, count, revenue, cost, profit\n",
    "\n",
    "\n",
    "\n",
    "\n",
    "\n",
    "\n",
    "\n",
    "\n",
    "    # @TODO: For every row in our sales data, loop over the menu records to determine a match\n",
    "\n",
    "\n",
    "        # Item,Category,Description,Price,Cost\n",
    "        # @TODO: Initialize menu data variables\n",
    "\n",
    "\n",
    "\n",
    "\n",
    "        # @TODO: Calculate profit of each item in the menu data\n",
    "\n",
    "\n",
    "        # @TODO: If the item value in our sales data is equal to the any of the items in the menu, then begin tracking metrics for that item\n",
    "\n",
    "\n",
    "            # @TODO: Print out matching menu data\n",
    "\n",
    "\n",
    "\n",
    "\n",
    "\n",
    "\n",
    "            # @TODO: Cumulatively add up the metrics for each item key\n",
    "\n",
    "\n",
    "\n",
    "\n",
    "\n",
    "        # @TODO: Else, the sales item does not equal any fo the item in the menu data, therefore no match\n",
    "\n",
    "\n",
    "\n",
    "    # @TODO: Increment the row counter by 1\n",
    "\n",
    "\n",
    "# @TODO: Print total number of records in sales data\n",
    "\n",
    "\n",
    "\n",
    "\n",
    "# @TODO: Write out report to a text file (won't appear on the command line output)\n",
    "\n",
    "\n",
    "        "
   ]
  },
  {
   "cell_type": "markdown",
   "id": "9680d4c4",
   "metadata": {},
   "source": [
    "## import libraries"
   ]
  },
  {
   "cell_type": "code",
   "execution_count": 445,
   "id": "ca04ab61",
   "metadata": {},
   "outputs": [],
   "source": [
    "# @TODO: Import libraries\n",
    "import csv\n",
    "from pathlib import Path"
   ]
  },
  {
   "cell_type": "markdown",
   "id": "d5600c75",
   "metadata": {},
   "source": [
    "## Set file paths"
   ]
  },
  {
   "cell_type": "code",
   "execution_count": 446,
   "id": "88be1a36",
   "metadata": {},
   "outputs": [],
   "source": [
    "# @TODO: Set file paths for menu_data.csv and sales_data.csv\n",
    "menu_filepath = Path('menu_data.csv')\n",
    "sales_filepath = Path('sales_data.csv')"
   ]
  },
  {
   "cell_type": "markdown",
   "id": "63fb704f",
   "metadata": {},
   "source": [
    "## Initialize list objects to hold menu and sales data"
   ]
  },
  {
   "cell_type": "code",
   "execution_count": 447,
   "id": "cd695670",
   "metadata": {},
   "outputs": [],
   "source": [
    "# @TODO: Initialize list objects to hold our menu and sales data\n",
    "menu = []\n",
    "sales = []"
   ]
  },
  {
   "cell_type": "markdown",
   "id": "e1b398e1",
   "metadata": {},
   "source": [
    "## Read in the menu data into the menu list"
   ]
  },
  {
   "cell_type": "code",
   "execution_count": 448,
   "id": "461d7640",
   "metadata": {},
   "outputs": [],
   "source": [
    "# @TODO: Read in the menu data into the menu list\n",
    "tmp = []\n",
    "with open(menu_filepath) as csv_file1:\n",
    "    csv_reader1 = csv.reader(csv_file1, delimiter=',')\n",
    "    line_count = 0\n",
    "    menu_header = next(csv_reader1)        # use next to skip header\n",
    "    for row in csv_reader1:\n",
    "#        if line_count == 0:\n",
    "#           print(f'columns names are {\",\".join(row)}')\n",
    "            \n",
    "#            menu_header = row\n",
    "#        else:\n",
    "        menu.append(row)\n",
    "            #print(f'\\t{row[0]} profit loss is {row[1]} ')    # /t is tab.\n",
    "            #print(row)\n",
    "#        line_count += 1"
   ]
  },
  {
   "cell_type": "markdown",
   "id": "a9ccf0e2",
   "metadata": {},
   "source": [
    "## Test print menu to validate above reading of file into menu list"
   ]
  },
  {
   "cell_type": "code",
   "execution_count": 449,
   "id": "9736b02e",
   "metadata": {},
   "outputs": [
    {
     "name": "stdout",
     "output_type": "stream",
     "text": [
      "32\n",
      "['edamame', 'appetizers', 'boiled soybeans, maldon sea salt', '4', '1']\n",
      "['house salad', 'appetizers', 'mixed greens, cherry tomatoes, cucumber, house ginger dressing', '4', '2']\n",
      "['cucumber sunomono salad', 'appetizers', 'cucumber, ponzu dressing, pickled ginger sproud, sesame seeds', '5', '2']\n",
      "['hiyashi wakame seaweed salad', 'appetizers', 'sweet soy-marinated wakame seaweed threads, pickled ginger sprout, sesame seeds', '5', '2']\n",
      "['agedashi tofu', 'appetizers', 'tempura battered tofu, katsuobushi, tsuyu broth, scallions', '5', '2']\n",
      "['hiyayakko tofu', 'appetizers', 'chilled soft tofu, house shoyu, katsuobushi, ginger, scallions', '5', '2']\n",
      "['pork floss bao', 'appetizers', 'two steamed buns, minced lean slow braised niman, ranch pork belly, cucumbers, sriracha mayo', '4', '2']\n",
      "['kakuni bao', 'appetizers', 'two steamed buns, chopped fatty slow braised niman ranch pork belly, cucumbers, house bao sauce', '6', '3']\n",
      "['edamame fried gyoza (vegan)', 'appetizers', 'six crispy fried edamame and cabbage pot stickers; ponzu rayu dipping sauce', '6', '3']\n",
      "['fried gyoza', 'appetizers', 'six cripsy fried pork and vegetable pot stickers; ponzu rayu dipping sauce', '6', '6']\n",
      "['takoyaki', 'appetizers', 'six octopus-filled fried fritters, kewpie mayo, okonomi sauce, aonori, katsuobushi, nori', '6', '3']\n",
      "['rock shrimp tempura', 'appetizers', 'deep fried tempura battered rock shrimp, sriracha mayo, nisume sauce, aonori, scallions', '6', '3']\n",
      "['soft-shell crab tempura', 'appetizers', 'single deep fried soft-shell crab, tsuyu dipping broth', '6', '3']\n",
      "['ebi katsu shrimp bao', 'appetizers', 'two steamed buns, panko-crusted fried shrimp patties, yuzu-kosho mayo, aonori, scallions', '6', '3']\n",
      "['nagomi shoyu', 'entree', 'shoyu seasoned clear double stock (organic chick broth + house dashi); slow braised niman ranch pork belly, hanjuku tamago, nori, menma, scallions', '11', '5']\n",
      "['shio ramen', 'entree', 'sea salt seasoned clear double stock (organic chicken broth + house dashi); slow braised niman ranch pork belly, hanjuku tamago, kikurage, nori, scallions', '11', '5']\n",
      "['spicy miso ramen', 'entree', 'house togarashi miso blend + niman ranch pork bone stock; slow braised niman ranch pork belly, hanjuku tamago, kikurage, nori, scallions', '12', '5']\n",
      "['vegetarian spicy miso', 'entree', 'house togarashi miso blend + vegan dashi; tempura fried tofu, sweet corn, edamame, kikurage, nori, scallions; organic soy milk upon request', '12', '5']\n",
      "['miso crab ramen', 'entree', 'house miso crab blend + vegan dashi; slow braised niman ranch pork belly, crab meat, hanjuku tamago, kikurage, nori, scallions', '12', '6']\n",
      "['soft-shell miso crab ramen', 'entree', 'house miso crab blend + vegan dashi; fried whole soft-shell crab, hanjuku tamago, kikurage, nori, scallions', '14', '7']\n",
      "['tori paitan ramen', 'entree', 'rich, shoyu seasoned double stock (organic chicken broth + house dashi); slow braised niman ranch pork belly, hanuku tamago, kikurage, nori, scllaions', '13', '6']\n",
      "['tonkotsu ramen', 'entree', 'rich, shoyi seasoned niman ranch pork bone stock; slow braised niman ranch pork belly, hanjuku tamago, kikurage, nori, spring radish, scallions', '13', '6']\n",
      "['burnt garlic tonkotsu ramen', 'entree', 'rich, shoyi and burnt garlic seasoned niman ranch pork bone stock; slow braised niman ranch pork belly, hanjuku tamago, kikurage, sweet corn, nori, scallions', '14', '6']\n",
      "['vegetarian curry + king trumpet mushroom ramen', 'entree', 'house curry blend + vegan dashi; fried king trumpet mushroom, tempura fried tofu, mung bean sprouts, kikurage, nori, scallions', '13', '7']\n",
      "['truffle butter ramen', 'entree', 'rich, shoyu seasoned niman ranch prok bone stock; truffle compound butter, slow braised niman ranch pork belly, kikurage, sweet corn, nori, scallions', '14', '7']\n",
      "['green tea', 'drinks', 'green tea', '2.5', '1']\n",
      "['coke', 'drinks', 'Coca Cola soda', '2', '1']\n",
      "['black sesame ice cream', 'desserts', 'house-made black sesame ice cream, valrhona chocolate threads, complimentary hojicha', '5', '2']\n",
      "['matcha ice cream', 'desserts', 'house-made matcha ice cream, white chocolate pearls; complimentary hojicha', '5', '2']\n",
      "['mango mochi ice cream', 'desserts', 'two rice-cake bonbons filled with strawberry ice cream; complimentary hojicha', '5', '2']\n",
      "['strawberry mochi ice cream', 'desserts', 'two rice-cake bonbons filled with strawberry ice cream; complimentary hojicha', '5', '2']\n",
      "['black sesame creme brulee', 'desserts', 'house made black sesame infused creme brulee; complimentary hojicha', '6', '3']\n"
     ]
    }
   ],
   "source": [
    "print(len(menu))\n",
    "for menu_item in menu:\n",
    "   print(menu_item)"
   ]
  },
  {
   "cell_type": "markdown",
   "id": "ce3dbe2b",
   "metadata": {},
   "source": [
    "## Read in the sales data into the sales list"
   ]
  },
  {
   "cell_type": "code",
   "execution_count": 450,
   "id": "840a0038",
   "metadata": {},
   "outputs": [],
   "source": [
    "# @TODO: Read in the sales data into the sales list\n",
    "with open(sales_filepath) as csv_file2:\n",
    "    csv_reader2 = csv.reader(csv_file2, delimiter=',')\n",
    "#    line_count = 0\n",
    "    sales_header = next(csv_reader2)      # use next to skip header\n",
    "    for row in csv_reader2:\n",
    "#        if csv_reader2.line_num == 1:\n",
    "#            sales_header = row\n",
    "#            next(csv_reader2)\n",
    "#        if line_count == 0:\n",
    "#           print(f'columns names are {\",\".join(row)}')\n",
    "#            sales_header = row\n",
    "    \n",
    "#        else:\n",
    "        sales.append(row)\n",
    "            #print(f'\\t{row[0]} profit loss is {row[1]} ')    # /t is tab.\n",
    "            #print(row)\n",
    "#        line_count += 1"
   ]
  },
  {
   "cell_type": "code",
   "execution_count": 451,
   "id": "1ca0c37b",
   "metadata": {},
   "outputs": [
    {
     "name": "stdout",
     "output_type": "stream",
     "text": [
      "['Line_Item_ID', 'Date', 'Credit_Card_Number', 'Quantity', 'Menu_Item']\n"
     ]
    }
   ],
   "source": [
    "print(sales_header)\n",
    "#for sales_item in sales:\n",
    "#    print(sales_item)"
   ]
  },
  {
   "cell_type": "code",
   "execution_count": 452,
   "id": "c34fc9dc",
   "metadata": {},
   "outputs": [],
   "source": [
    "for k, v in report.items():\n",
    "    print('xxx')\n",
    "    print(k)\n",
    "    print(v)"
   ]
  },
  {
   "cell_type": "markdown",
   "id": "5a8228b4",
   "metadata": {},
   "source": [
    "## get the counts from Sales"
   ]
  },
  {
   "cell_type": "code",
   "execution_count": 453,
   "id": "c6825dc2",
   "metadata": {},
   "outputs": [],
   "source": [
    "\n",
    "report_2 = {}\n",
    "\n",
    "for sales_item in sales:\n",
    "    if sales_item[4] in report_2:\n",
    "#        print('item found ')\n",
    "        v = report_2[sales_item[4]]['01-count']\n",
    "        v += int(sales_item[3])\n",
    "        report_2[sales_item[4]]['01-count'] = v\n",
    "    else:\n",
    "        report_2[sales_item[4]] = { \"01-count\": int(sales_item[3]), \"02-revenue\": 0, \"03-cogs\": 0, \"04-profit\": 0, }                                  \n",
    "#report_2 = { sales_item[4]: { \"01-count\": int(sales_item[3]), \"02-revenue\": 0, \"03-cogs\": 0, \"04-profit\": 0, } }\n"
   ]
  },
  {
   "cell_type": "markdown",
   "id": "9ab748ae",
   "metadata": {},
   "source": [
    "## print just the counts"
   ]
  },
  {
   "cell_type": "code",
   "execution_count": 454,
   "id": "9b4a2103",
   "metadata": {},
   "outputs": [
    {
     "name": "stdout",
     "output_type": "stream",
     "text": [
      "spicy miso ramen {'01-count': 9238, '02-revenue': 0, '03-cogs': 0, '04-profit': 0}\n",
      "tori paitan ramen {'01-count': 9156, '02-revenue': 0, '03-cogs': 0, '04-profit': 0}\n",
      "truffle butter ramen {'01-count': 8982, '02-revenue': 0, '03-cogs': 0, '04-profit': 0}\n",
      "tonkotsu ramen {'01-count': 9288, '02-revenue': 0, '03-cogs': 0, '04-profit': 0}\n",
      "vegetarian spicy miso {'01-count': 9216, '02-revenue': 0, '03-cogs': 0, '04-profit': 0}\n",
      "shio ramen {'01-count': 9180, '02-revenue': 0, '03-cogs': 0, '04-profit': 0}\n",
      "miso crab ramen {'01-count': 8890, '02-revenue': 0, '03-cogs': 0, '04-profit': 0}\n",
      "nagomi shoyu {'01-count': 9132, '02-revenue': 0, '03-cogs': 0, '04-profit': 0}\n",
      "soft-shell miso crab ramen {'01-count': 9130, '02-revenue': 0, '03-cogs': 0, '04-profit': 0}\n",
      "burnt garlic tonkotsu ramen {'01-count': 9070, '02-revenue': 0, '03-cogs': 0, '04-profit': 0}\n",
      "vegetarian curry + king trumpet mushroom ramen {'01-count': 8824, '02-revenue': 0, '03-cogs': 0, '04-profit': 0}\n"
     ]
    }
   ],
   "source": [
    "for k,v in report_2.items():\n",
    "    print(k, v)"
   ]
  },
  {
   "cell_type": "markdown",
   "id": "5182346b",
   "metadata": {},
   "source": [
    "## loop through menu items and calculate the revenue and profit"
   ]
  },
  {
   "cell_type": "code",
   "execution_count": 468,
   "id": "5ac07940",
   "metadata": {},
   "outputs": [
    {
     "name": "stdout",
     "output_type": "stream",
     "text": [
      "edamame does not have sales\n",
      "house salad does not have sales\n",
      "cucumber sunomono salad does not have sales\n",
      "hiyashi wakame seaweed salad does not have sales\n",
      "agedashi tofu does not have sales\n",
      "hiyayakko tofu does not have sales\n",
      "pork floss bao does not have sales\n",
      "kakuni bao does not have sales\n",
      "edamame fried gyoza (vegan) does not have sales\n",
      "fried gyoza does not have sales\n",
      "takoyaki does not have sales\n",
      "rock shrimp tempura does not have sales\n",
      "soft-shell crab tempura does not have sales\n",
      "ebi katsu shrimp bao does not have sales\n",
      "green tea does not have sales\n",
      "coke does not have sales\n",
      "black sesame ice cream does not have sales\n",
      "matcha ice cream does not have sales\n",
      "mango mochi ice cream does not have sales\n",
      "strawberry mochi ice cream does not have sales\n",
      "black sesame creme brulee does not have sales\n"
     ]
    }
   ],
   "source": [
    "for menu_item in menu:\n",
    "    if menu_item[0] in report_2:\n",
    "        sale_count = report_2[menu_item[0]]['01-count']\n",
    "#        print('item found ', menu_item[0], 'count = ', sale_count)\n",
    "        price = int(menu_item[3])\n",
    "        cost = int(menu_item[4])\n",
    "        cogs = cost * sale_count\n",
    "        revenue = sale_count * price\n",
    "        profit = revenue - cogs\n",
    "        report_2[menu_item[0]]['02-revenue'] = revenue\n",
    "        report_2[menu_item[0]]['04-profit'] = profit\n",
    "        report_2[menu_item[0]]['03-cogs'] = cogs\n",
    "    else:\n",
    "        print(f'{menu_item[0]} does not have sales')\n",
    "#        report_2[menu_item[0]] = { \"01-count\": int(sales_item[3]), \"02-revenue\": 0, \"03-cogs\": 0, \"04-profit\": 0, }   "
   ]
  },
  {
   "cell_type": "markdown",
   "id": "7c1add60",
   "metadata": {},
   "source": [
    "## print item, count, revenue, cogs, profit"
   ]
  },
  {
   "cell_type": "code",
   "execution_count": 469,
   "id": "3ef64758",
   "metadata": {},
   "outputs": [
    {
     "name": "stdout",
     "output_type": "stream",
     "text": [
      "spicy miso ramen {'01-count': 9238, '02-revenue': 110856, '03-cogs': 46190, '04-profit': 64666}\n",
      "tori paitan ramen {'01-count': 9156, '02-revenue': 119028, '03-cogs': 54936, '04-profit': 64092}\n",
      "truffle butter ramen {'01-count': 8982, '02-revenue': 125748, '03-cogs': 62874, '04-profit': 62874}\n",
      "tonkotsu ramen {'01-count': 9288, '02-revenue': 120744, '03-cogs': 55728, '04-profit': 65016}\n",
      "vegetarian spicy miso {'01-count': 9216, '02-revenue': 110592, '03-cogs': 46080, '04-profit': 64512}\n",
      "shio ramen {'01-count': 9180, '02-revenue': 100980, '03-cogs': 45900, '04-profit': 55080}\n",
      "miso crab ramen {'01-count': 8890, '02-revenue': 106680, '03-cogs': 53340, '04-profit': 53340}\n",
      "nagomi shoyu {'01-count': 9132, '02-revenue': 100452, '03-cogs': 45660, '04-profit': 54792}\n",
      "soft-shell miso crab ramen {'01-count': 9130, '02-revenue': 127820, '03-cogs': 63910, '04-profit': 63910}\n",
      "burnt garlic tonkotsu ramen {'01-count': 9070, '02-revenue': 126980, '03-cogs': 54420, '04-profit': 72560}\n",
      "vegetarian curry + king trumpet mushroom ramen {'01-count': 8824, '02-revenue': 114712, '03-cogs': 61768, '04-profit': 52944}\n"
     ]
    }
   ],
   "source": [
    "for k,v in report_2.items():\n",
    "    print(k, v)"
   ]
  },
  {
   "cell_type": "markdown",
   "id": "ad8a9bf9",
   "metadata": {},
   "source": [
    "## write to a file"
   ]
  },
  {
   "cell_type": "code",
   "execution_count": 483,
   "id": "28988571",
   "metadata": {},
   "outputs": [],
   "source": [
    "outfile_path = Path('PyRamen_analysis.txt')\n",
    "f = open(outfile_path, \"w\")\n",
    "for key, val in report_2.items():\n",
    "    f.write(f'{key} {val}\\n')\n",
    "#    f.write(\"\\n\")\n",
    "f.close()\n"
   ]
  },
  {
   "cell_type": "markdown",
   "id": "b300de13",
   "metadata": {},
   "source": [
    "##### ignore practice code"
   ]
  },
  {
   "cell_type": "code",
   "execution_count": null,
   "id": "6c34e15b",
   "metadata": {},
   "outputs": [],
   "source": [
    "# cnt = 1\n",
    "# list1 = {}\n",
    "# new_count = 0\n",
    "# for sales_item in sales:\n",
    "#     cnt += 1\n",
    "#     # print(sales_item[4])\n",
    "#     if len(report) == 0:\n",
    "#         print('empty list')\n",
    "#         # 1st item just insert it\n",
    "#         report = { sales_item[4]: { \"01-count\": int(sales_item[3]), \"02-revenue\": 0, \"03-cogs\": 0, \"04-profit\": 0, } }\n",
    "#         print(report)\n",
    "#     else:\n",
    "#         # print('sales item in else:',sales_item)\n",
    "#         for report_item, item_values in report.items():\n",
    "#             if report_item == sales_item[4]:\n",
    "# #                print('item value: ',item_values)\n",
    "# #                print('report item ',report_item)\n",
    "# #                print('sales item', sales_item[4])\n",
    "#                 for k, v in item_values.items():\n",
    "#                     if k == '01-count':\n",
    "#                         new_count = v + int(sales_item[3])\n",
    "#                         v = new_count\n",
    "#                         item_values[k] = v\n",
    "#                         # print('new count = ', v)\n",
    "#             else:\n",
    "# #               print('not found adding', sales_item[4], int(sales_item[3]) )\n",
    "#                 report[sales_item[4]] = { \"01-count\": int(sales_item[3]), \"02-revenue\": 0, \"03-cogs\": 0, \"04-profit\": 0, } \n",
    "#                 # menu item not yet in report, add as firts one\n",
    "                \n",
    "#         # print('in else', sales_item[4],  int(sales_item[3]))\n",
    "# #        report = { sales_item[4]: { \"01-count\": int(sales_item[3]), \"02-revenue\": 0, \"03-cogs\": 0, \"04-profit\": 0, } }\n",
    "#                 # print(new_count)\n",
    "#                 # report[report_item][report_values[0] += int(sales_item[3])\n",
    "#                 #  print(f'report values {report_values}')\n",
    "#                 #  now there is match so need to update existing Item"
   ]
  },
  {
   "cell_type": "code",
   "execution_count": 457,
   "id": "abbbed07",
   "metadata": {},
   "outputs": [],
   "source": [
    "# for outk, outv in report.items():\n",
    "#     print(outk, outv)"
   ]
  },
  {
   "cell_type": "code",
   "execution_count": 458,
   "id": "5ad91e2d",
   "metadata": {},
   "outputs": [],
   "source": [
    "\n",
    "    \n",
    "# Changing and adding Dictionary Elements\n",
    "#my_dict = {'name': 'Jack', 'age': 26}"
   ]
  },
  {
   "cell_type": "code",
   "execution_count": 470,
   "id": "1862904a",
   "metadata": {},
   "outputs": [],
   "source": [
    "#print(my_dict)"
   ]
  }
 ],
 "metadata": {
  "kernelspec": {
   "display_name": "Python 3",
   "language": "python",
   "name": "python3"
  },
  "language_info": {
   "codemirror_mode": {
    "name": "ipython",
    "version": 3
   },
   "file_extension": ".py",
   "mimetype": "text/x-python",
   "name": "python",
   "nbconvert_exporter": "python",
   "pygments_lexer": "ipython3",
   "version": "3.8.5"
  },
  "toc-autonumbering": true,
  "toc-showmarkdowntxt": true,
  "toc-showtags": false
 },
 "nbformat": 4,
 "nbformat_minor": 5
}
